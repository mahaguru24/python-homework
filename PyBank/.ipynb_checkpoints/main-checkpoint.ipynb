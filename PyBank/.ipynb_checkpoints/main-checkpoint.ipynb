{
 "cells": [
  {
   "cell_type": "code",
   "execution_count": 2,
   "id": "956d0854-445c-4aba-8157-0b9f4f06f793",
   "metadata": {},
   "outputs": [
    {
     "name": "stdout",
     "output_type": "stream",
     "text": [
      "Please check you are running from PyBank folder\n",
      "Financial Analysis\n",
      "----------------------------\n",
      "Total Months: 86\n",
      "Total: $38382578\n",
      "Average  Change: $-2315.12\n",
      "Greatest Increase in Profits: Feb-2012 ($1926159)\n",
      "Greatest Decrease in Profits: Sep-2013 ($-2196167)\n"
     ]
    }
   ],
   "source": [
    "from pathlib import Path\n",
    "import csv\n",
    "\n",
    "print(\"Please check you are running from PyBank folder\")\n",
    "csvPath = Path('Resources/budget_data.csv')\n",
    "\n",
    "total_month_count = 0\n",
    "net_position = 0\n",
    "\n",
    "with open(csvPath, 'r') as csvfile:\n",
    "    csvreader = csv.reader(csvfile, delimiter=',')\n",
    "    \n",
    "    # skip header \n",
    "    header = next(csvreader)\n",
    "\n",
    "    # store all months data as dict list\n",
    "    monthly_data = []\n",
    "\n",
    "    total_monthly_change = 0\n",
    "    last_month_position = 0\n",
    "\n",
    "    for row in csvreader:\n",
    "        current_month_position = int(row[1])\n",
    "        net_position += current_month_position\n",
    "        \n",
    "        current_month_change = 0\n",
    "        \n",
    "        # first month will not have any change\n",
    "        if total_month_count > 0:\n",
    "            current_month_change = current_month_position - last_month_position\n",
    "        \n",
    "        total_monthly_change += current_month_change\n",
    "        \n",
    "        # for next month, current month position will be last month position  \n",
    "        last_month_position = current_month_position\n",
    "\n",
    "        # create formatted list dict\n",
    "        monthly_data.append({\n",
    "            'month': row[0],\n",
    "            'position': current_month_position,\n",
    "            'change': current_month_change\n",
    "        })\n",
    "\n",
    "        total_month_count += 1\n",
    "\n",
    "        \n",
    "print(f\"Financial Analysis\")\n",
    "print(f\"----------------------------\")\n",
    "print(f\"Total Months: {total_month_count}\")\n",
    "print(f\"Total: ${net_position}\")       \n",
    "# for fist month there will not be any change \n",
    "total_change_month_count = total_month_count -1\n",
    "print(f\"Average  Change: ${total_monthly_change / total_change_month_count: .2F}\")\n",
    "\n",
    "greatest_increase_month = max(monthly_data, key=lambda x:x['change'])\n",
    "greatest_decrease_month = min(monthly_data, key=lambda x:x['change'])\n",
    "print(f\"Greatest Increase in Profits: {greatest_increase_month['month']} (${greatest_increase_month['change']})\")\n",
    "print(f\"Greatest Decrease in Profits: {greatest_decrease_month['month']} (${greatest_decrease_month['change']})\")"
   ]
  }
 ],
 "metadata": {
  "kernelspec": {
   "display_name": "Python 3 (ipykernel)",
   "language": "python",
   "name": "python3"
  },
  "language_info": {
   "codemirror_mode": {
    "name": "ipython",
    "version": 3
   },
   "file_extension": ".py",
   "mimetype": "text/x-python",
   "name": "python",
   "nbconvert_exporter": "python",
   "pygments_lexer": "ipython3",
   "version": "3.10.2"
  }
 },
 "nbformat": 4,
 "nbformat_minor": 5
}
